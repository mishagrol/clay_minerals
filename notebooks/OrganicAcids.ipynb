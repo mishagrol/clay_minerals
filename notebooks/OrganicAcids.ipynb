{
 "cells": [
  {
   "cell_type": "code",
   "execution_count": null,
   "id": "6361de94-3dcf-4fbe-ba4b-bafba5036561",
   "metadata": {},
   "outputs": [
    {
     "name": "stderr",
     "output_type": "stream",
     "text": [
      "/var/folders/r7/28f5nfmd03331pjr6dhr_6jm0000gn/T/ipykernel_50725/4182177330.py:2: DeprecationWarning: \n",
      "Pyarrow will become a required dependency of pandas in the next major release of pandas (pandas 3.0),\n",
      "(to allow more performant data types, such as the Arrow string type, and better interoperability with other libraries)\n",
      "but was not found to be installed on your system.\n",
      "If this would cause problems for you,\n",
      "please provide us feedback at https://github.com/pandas-dev/pandas/issues/54466\n",
      "        \n",
      "  import pandas as pd\n"
     ]
    }
   ],
   "source": [
    "import datetime as dt\n",
    "import pandas as pd\n",
    "import os\n",
    "import seaborn as sns\n",
    "import matplotlib.pyplot as plt\n",
    "import scienceplots\n",
    "# from scipy.stats import mannwhitneyu, ttest_ind"
   ]
  },
  {
   "cell_type": "code",
   "execution_count": null,
   "id": "3566839c-f14e-488b-806d-5e81082f0df5",
   "metadata": {},
   "outputs": [],
   "source": [
    "# use science style \n",
    "plt.style.use(['science', 'no-latex', 'russian-font'])\n",
    "\n",
    "sns.set_palette('colorblind')\n",
    "# sns.set_context('talk')\n",
    "plt.rcParams[\"font.family\"] = \"Times New Roman\"\n",
    "plt.rcParams.update({'font.size':16})"
   ]
  },
  {
   "cell_type": "code",
   "execution_count": null,
   "id": "a34de3cd-4ff6-4019-9bd1-a617a292cdb6",
   "metadata": {},
   "outputs": [],
   "source": [
    "df = pd.read_excel('../organic_acids.xlsx', sheet_name='Лист1')\n",
    "\n",
    "df = df.drop(columns=['Code'])\n"
   ]
  },
  {
   "cell_type": "code",
   "execution_count": null,
   "id": "03a32ed2-119a-4848-9484-b786c94380bf",
   "metadata": {},
   "outputs": [
    {
     "data": {
      "text/plain": [
       "Index(['type', 'days', 'Щавлевая', 'Фумаровая', 'Янтарная', 'Яблочная',\n",
       "       'Лимонная', 'Уксусная', 'Пропионовая', 'Молочная', 'Бензойная',\n",
       "       'Сорбиновая', 'Sum'],\n",
       "      dtype='object')"
      ]
     },
     "execution_count": null,
     "metadata": {},
     "output_type": "execute_result"
    }
   ],
   "source": [
    "df.columns"
   ]
  },
  {
   "cell_type": "code",
   "execution_count": null,
   "id": "51f58b7b-9c39-4a95-a692-3b52bc7d3e11",
   "metadata": {},
   "outputs": [],
   "source": [
    "df_melted = pd.melt(df, id_vars= ['type', 'days'],\n",
    "        value_vars=['Щавлевая', 'Фумаровая', 'Янтарная', 'Яблочная',\n",
    "       'Лимонная', 'Уксусная', 'Пропионовая', 'Молочная', 'Бензойная',\n",
    "       'Сорбиновая','Sum'])"
   ]
  },
  {
   "cell_type": "code",
   "execution_count": null,
   "id": "6bfb9f90-4c14-41ee-b7bf-b40797e32e30",
   "metadata": {},
   "outputs": [
    {
     "data": {
      "text/html": [
       "<div>\n",
       "<style scoped>\n",
       "    .dataframe tbody tr th:only-of-type {\n",
       "        vertical-align: middle;\n",
       "    }\n",
       "\n",
       "    .dataframe tbody tr th {\n",
       "        vertical-align: top;\n",
       "    }\n",
       "\n",
       "    .dataframe thead th {\n",
       "        text-align: right;\n",
       "    }\n",
       "</style>\n",
       "<table border=\"1\" class=\"dataframe\">\n",
       "  <thead>\n",
       "    <tr style=\"text-align: right;\">\n",
       "      <th></th>\n",
       "      <th>type</th>\n",
       "      <th>days</th>\n",
       "      <th>variable</th>\n",
       "      <th>value</th>\n",
       "    </tr>\n",
       "  </thead>\n",
       "  <tbody>\n",
       "    <tr>\n",
       "      <th>0</th>\n",
       "      <td>bacteria</td>\n",
       "      <td>0</td>\n",
       "      <td>Щавлевая</td>\n",
       "      <td>0.000000</td>\n",
       "    </tr>\n",
       "    <tr>\n",
       "      <th>1</th>\n",
       "      <td>bacteria</td>\n",
       "      <td>4</td>\n",
       "      <td>Щавлевая</td>\n",
       "      <td>0.030190</td>\n",
       "    </tr>\n",
       "    <tr>\n",
       "      <th>2</th>\n",
       "      <td>bacteria</td>\n",
       "      <td>4</td>\n",
       "      <td>Щавлевая</td>\n",
       "      <td>0.033045</td>\n",
       "    </tr>\n",
       "    <tr>\n",
       "      <th>3</th>\n",
       "      <td>bacteria</td>\n",
       "      <td>4</td>\n",
       "      <td>Щавлевая</td>\n",
       "      <td>0.062324</td>\n",
       "    </tr>\n",
       "    <tr>\n",
       "      <th>4</th>\n",
       "      <td>bacteria</td>\n",
       "      <td>7</td>\n",
       "      <td>Щавлевая</td>\n",
       "      <td>0.026202</td>\n",
       "    </tr>\n",
       "    <tr>\n",
       "      <th>...</th>\n",
       "      <td>...</td>\n",
       "      <td>...</td>\n",
       "      <td>...</td>\n",
       "      <td>...</td>\n",
       "    </tr>\n",
       "    <tr>\n",
       "      <th>721</th>\n",
       "      <td>control</td>\n",
       "      <td>31</td>\n",
       "      <td>Sum</td>\n",
       "      <td>0.000000</td>\n",
       "    </tr>\n",
       "    <tr>\n",
       "      <th>722</th>\n",
       "      <td>control</td>\n",
       "      <td>31</td>\n",
       "      <td>Sum</td>\n",
       "      <td>0.000000</td>\n",
       "    </tr>\n",
       "    <tr>\n",
       "      <th>723</th>\n",
       "      <td>control</td>\n",
       "      <td>38</td>\n",
       "      <td>Sum</td>\n",
       "      <td>0.000000</td>\n",
       "    </tr>\n",
       "    <tr>\n",
       "      <th>724</th>\n",
       "      <td>control</td>\n",
       "      <td>38</td>\n",
       "      <td>Sum</td>\n",
       "      <td>0.000000</td>\n",
       "    </tr>\n",
       "    <tr>\n",
       "      <th>725</th>\n",
       "      <td>control</td>\n",
       "      <td>38</td>\n",
       "      <td>Sum</td>\n",
       "      <td>0.075902</td>\n",
       "    </tr>\n",
       "  </tbody>\n",
       "</table>\n",
       "<p>726 rows × 4 columns</p>\n",
       "</div>"
      ],
      "text/plain": [
       "         type  days  variable     value\n",
       "0    bacteria     0  Щавлевая  0.000000\n",
       "1    bacteria     4  Щавлевая  0.030190\n",
       "2    bacteria     4  Щавлевая  0.033045\n",
       "3    bacteria     4  Щавлевая  0.062324\n",
       "4    bacteria     7  Щавлевая  0.026202\n",
       "..        ...   ...       ...       ...\n",
       "721   control    31       Sum  0.000000\n",
       "722   control    31       Sum  0.000000\n",
       "723   control    38       Sum  0.000000\n",
       "724   control    38       Sum  0.000000\n",
       "725   control    38       Sum  0.075902\n",
       "\n",
       "[726 rows x 4 columns]"
      ]
     },
     "execution_count": null,
     "metadata": {},
     "output_type": "execute_result"
    }
   ],
   "source": [
    "df_melted"
   ]
  },
  {
   "cell_type": "code",
   "execution_count": null,
   "id": "138c0a6c-72b8-4bbf-926f-e49ca878f9fe",
   "metadata": {},
   "outputs": [
    {
     "data": {
      "image/png": "[encoded data removed]",
      "text/plain": [
       "<Figure size 1000x400 with 1 Axes>"
      ]
     },
     "metadata": {},
     "output_type": "display_data"
    }
   ],
   "source": [
    "fig, ax = plt.subplots(1,1,figsize=(10,4))\n",
    "type = 'bacteria'\n",
    "mask = (df_melted['variable']=='Sum') #& (df_melted['type']==type)\n",
    "sns.lineplot(data=df_melted.loc[mask],\n",
    "             errorbar=lambda x: (x.min(), x.max()),\n",
    "                err_style='bars',\n",
    "                 estimator='median',\n",
    "             err_kws={'capsize':5, 'elinewidth': 1},\n",
    "             y='value', x='days', hue='type')\n",
    "# props = dict(boxstyle='round', facecolor='wheat', alpha=0.4)\n",
    "# ax.text(0.03, 0.95, type.capitalize(), transform=ax.transAxes, fontsize=16,\n",
    "#             verticalalignment='top', bbox=props)\n",
    "leg=ax.legend(frameon=True)  \n",
    "ax.set_ylabel('$mmol/l$')\n",
    "plt.savefig('../plots/organic_acids_bacteria.png', dpi=150)\n",
    "plt.show()"
   ]
  },
  {
   "cell_type": "code",
   "execution_count": null,
   "id": "b29c87e6-7373-4103-81af-637b2d2c874f",
   "metadata": {},
   "outputs": [],
   "source": []
  }
 ],
 "metadata": {
  "kernelspec": {
   "display_name": "python3",
   "language": "python",
   "name": "python3"
  }
 },
 "nbformat": 4,
 "nbformat_minor": 5
}
