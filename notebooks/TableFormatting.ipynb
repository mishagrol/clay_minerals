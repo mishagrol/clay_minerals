{
 "cells": [
  {
   "cell_type": "markdown",
   "id": "b116654b-c858-4fc7-b15e-1e8c680364b5",
   "metadata": {},
   "source": [
    "# \n"
   ]
  },
  {
   "cell_type": "code",
   "execution_count": null,
   "id": "5ae07296-e67a-4838-af62-1a217753a39a",
   "metadata": {},
   "outputs": [],
   "source": [
    "import pandas as pd\n",
    "import numpy as np"
   ]
  },
  {
   "cell_type": "code",
   "execution_count": null,
   "id": "6cab37a1-8d16-46e8-a28d-6d29c919b924",
   "metadata": {},
   "outputs": [],
   "source": [
    "df = pd.read_excel('/Users/msk-hq-nb-2960/Downloads/орг кислоты Б,Г и К ммоль.xlsx', sheet_name='Лист1')"
   ]
  },
  {
   "cell_type": "code",
   "execution_count": null,
   "id": "ba040a4b-2bb7-4ccb-b103-3a465f51ec51",
   "metadata": {},
   "outputs": [],
   "source": [
    "df = df.drop(columns='Шифр пробы')"
   ]
  },
  {
   "cell_type": "code",
   "execution_count": null,
   "id": "e5c16436-8dd5-4dfd-81f3-b40fb3a7d7bd",
   "metadata": {},
   "outputs": [],
   "source": [
    "# Sample DataFrame\n",
    "# data = {\n",
    "#     'Group': ['A', 'A', 'A', 'B', 'B', 'B'],\n",
    "#     'Value1': [10, 12, 14, 20, 22, 24],\n",
    "#     'Value2': [5, 7, 9, 15, 17, 19]\n",
    "# }\n",
    "# df = pd.DataFrame(data)\n",
    "\n",
    "# Group by 'Group' and aggregate multiple columns\n",
    "agg_df = df.groupby('Дни').agg(['mean', 'std'])\n",
    "\n",
    "# Flatten the MultiIndex columns\n",
    "agg_df.columns = ['_'.join(col).strip() for col in agg_df.columns.values]\n",
    "\n",
    "# Combine mean and std into the desired format for each column\n",
    "for col in df.columns[1:]:  # Skip the 'Group' column\n",
    "    agg_df[f'{col} mean ± std'] = agg_df[f'{col}_mean'].round(2).astype(str) + ' ± ' + agg_df[f'{col}_std'].round(2).astype(str)\n",
    "\n",
    "# Display the result\n",
    "formatted_columns = [f'{col} mean ± std' for col in df.columns[1:]]\n",
    "res_df = agg_df[formatted_columns]"
   ]
  },
  {
   "cell_type": "code",
   "execution_count": null,
   "id": "aea21cf8-5b1d-4805-b5f6-5bc6fad5daaa",
   "metadata": {},
   "outputs": [],
   "source": [
    "no_zeros = res_df.map(lambda x: '–'  if x=='0.0 ± 0.0' else x)"
   ]
  },
  {
   "cell_type": "code",
   "execution_count": null,
   "id": "c5abe3fc-b878-4aaf-8779-df0812974652",
   "metadata": {},
   "outputs": [],
   "source": [
    "res_df.to_excel('../data/table_with_zeros.xlsx')\n",
    "no_zeros.to_excel('../data/table_no_zeros.xlsx')"
   ]
  }
 ],
 "metadata": {
  "kernelspec": {
   "display_name": "python3",
   "language": "python",
   "name": "python3"
  }
 },
 "nbformat": 4,
 "nbformat_minor": 5
}
